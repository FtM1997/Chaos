{
  "nbformat": 4,
  "nbformat_minor": 0,
  "metadata": {
    "colab": {
      "provenance": [],
      "toc_visible": true,
      "authorship_tag": "ABX9TyNiZrQNJmZTETYzk2y8N9hk",
      "include_colab_link": true
    },
    "kernelspec": {
      "name": "python3",
      "display_name": "Python 3"
    },
    "language_info": {
      "name": "python"
    }
  },
  "cells": [
    {
      "cell_type": "markdown",
      "metadata": {
        "id": "view-in-github",
        "colab_type": "text"
      },
      "source": [
        "<a href=\"https://colab.research.google.com/github/FtM1997/Chaos/blob/main/Higuchi_FractalD.ipynb\" target=\"_parent\"><img src=\"https://colab.research.google.com/assets/colab-badge.svg\" alt=\"Open In Colab\"/></a>"
      ]
    },
    {
      "cell_type": "code",
      "execution_count": null,
      "metadata": {
        "id": "FxFk3Kr6pRwB"
      },
      "outputs": [],
      "source": [
        "def Higuchi_FractalD(serie, Kmax):\n",
        "\n",
        "    \"\"\"\n",
        "    Function for computing the Higuchi Fractal Dimension (HFD) of a signal.\n",
        "\n",
        "    INPUT:\n",
        "        serie: refers to a temporal series that is intended to be analyzed using HDF.\n",
        "        It should be in the form of a row vector.\n",
        "        \"Kmax\" represents the maximum number of sub-series that can be created from the original series.\n",
        "    OUTPUT:\n",
        "        HFD: the HFD of the temporal series.\n",
        "        Author: Fatemeh Makhloughi <fatemeh.makhloughi@gmail.com>\n",
        "    \"\"\"\n",
        "\n",
        "    ## Checking the input parameters:\n",
        "    assert len(serie) > 0\n",
        "    assert Kmax is not None\n",
        "\n",
        "    # Composing of the sub-series:\n",
        "    N = len(serie)\n",
        "    X = np.empty((Kmax,Kmax,N))\n",
        "    X[:] = np.nan\n",
        "\n",
        "    for k in range(1, Kmax+1):\n",
        "        for m in range(1, k+1):\n",
        "            limit = np.floor((N-m)/k).astype(int)\n",
        "            j = 0\n",
        "            for i in range(m-1, (m + (limit*k))-1, k):\n",
        "                X[k-1,m-1,j] = serie[i]\n",
        "                j += 1\n",
        "\n",
        "    # Computing the length of each sub-serie:\n",
        "    L = np.empty(Kmax)\n",
        "    L[:] = np.nan\n",
        "\n",
        "    for k in range(1, Kmax+1):\n",
        "        L_m = np.zeros(k)\n",
        "        for m in range(1, k+1):\n",
        "            R = (N - 1)/(np.floor((N - m)/k) * k)\n",
        "            aux = X[k-1,m-1,~np.isnan(X[k-1,m-1,:])]\n",
        "            for i in range(len(aux) - 1):\n",
        "                L_m[m-1] += abs(aux[i+1] - aux[i])\n",
        "            L_m[m-1] = (L_m[m-1] * R)/k\n",
        "\n",
        "        L[k-1] = np.sum(L_m)/k\n",
        "\n",
        "    x = 1./(np.arange(1,Kmax+1))\n",
        "    aux = np.polyfit(np.log(x), np.log(L), 1)\n",
        "    HFD = aux[0]\n",
        "\n",
        "    return HFD"
      ]
    }
  ]
}
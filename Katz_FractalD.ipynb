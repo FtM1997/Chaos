{
  "nbformat": 4,
  "nbformat_minor": 0,
  "metadata": {
    "colab": {
      "provenance": [],
      "toc_visible": true,
      "authorship_tag": "ABX9TyPe0vK9KA/olJxkutICMNHJ",
      "include_colab_link": true
    },
    "kernelspec": {
      "name": "python3",
      "display_name": "Python 3"
    },
    "language_info": {
      "name": "python"
    }
  },
  "cells": [
    {
      "cell_type": "markdown",
      "metadata": {
        "id": "view-in-github",
        "colab_type": "text"
      },
      "source": [
        "<a href=\"https://colab.research.google.com/github/FtM1997/Chaos/blob/main/Katz_FractalD.ipynb\" target=\"_parent\"><img src=\"https://colab.research.google.com/assets/colab-badge.svg\" alt=\"Open In Colab\"/></a>"
      ]
    },
    {
      "cell_type": "code",
      "execution_count": null,
      "metadata": {
        "id": "B_Lf7cqUeSu6"
      },
      "outputs": [],
      "source": [
        "def Katz_FractalD(serie):\n",
        "\n",
        "      \"\"\"\"\n",
        "      This is a function that calculates the Katz Fractal Dimension (KFD) for a given temporal series.\n",
        "\n",
        "      Input:\n",
        "      serie: The temporal series to be analyzed using KFD. It should be a one-dimensional numpy array.\n",
        "      Output:\n",
        "      KFD: The calculated KFD value for the temporal series.\n",
        "\n",
        "      Author: Fatemeh Makhloughi <fatemeh.makhloughi@gmail.com>\n",
        "\n",
        "      \"\"\"\"\n",
        "\n",
        "    # Checking the input parameters:\n",
        "    assert isinstance(serie, np.ndarray),\n",
        "\n",
        "\n",
        "    # Computing 'L':\n",
        "    # 'L' represents the total length of the curve, which is calculated by summing\n",
        "    # the distances between successive points. The distance between two points on the\n",
        "    # waveform is defined as the Euclidean distance: dist(s1,s2) = sqrt[(x1-x2)^2 + (y1 - y2)^2];\n",
        "    # In this case, (x1 - x2) is always equal to 1 for all samples.\n",
        "    L = 0\n",
        "    N = len(serie)\n",
        "    n = N - 1 # 'n' is the number of steps in the waveform.\n",
        "    for i in range(N - 1):\n",
        "        aux = np.sqrt(1 + ((serie[i] - serie[i+1])**2))\n",
        "        L = L + aux\n",
        "\n",
        "    # Computing 'd':\n",
        "    # 'd' represents the planar extent diameter of the waveform. It is estimated as\n",
        "    # the distance between the first point of the sequence and the point of the\n",
        "    # sequence that provides the farthest distance: d = max(dist(1,i)); i=2...N.\n",
        "\n",
        "    dist = np.zeros(N-1)\n",
        "    for i in range(1, N):\n",
        "        dist[i-1] = np.sqrt(((1 - i)**2) + ((serie[0] - serie[i])**2))\n",
        "    d = np.max(dist)\n",
        "\n",
        "    # The KFD is computed as follows\n",
        "    KFD = np.log10(n) / (np.log10(n) + np.log10(d/L))\n",
        "\n",
        "    return KFD"
      ]
    }
  ]
}